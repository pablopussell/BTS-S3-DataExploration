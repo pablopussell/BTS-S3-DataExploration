{
 "cells": [
  {
   "cell_type": "code",
   "execution_count": 2,
   "metadata": {
    "collapsed": true
   },
   "outputs": [],
   "source": [
    "import pandas as pd\n",
    "import numpy as np\n",
    "from IPython.display import display"
   ]
  },
  {
   "cell_type": "code",
   "execution_count": 3,
   "metadata": {
    "collapsed": true
   },
   "outputs": [],
   "source": [
    "import warnings\n",
    "warnings.filterwarnings(\"ignore\") \n",
    "pd.set_option('display.max_columns', 30)\n",
    "pd.set_option('display.width', 200)\n",
    "pd.set_option('display.max_colwidth', 100)"
   ]
  },
  {
   "cell_type": "code",
   "execution_count": 4,
   "metadata": {
    "collapsed": true
   },
   "outputs": [],
   "source": [
    "rawdf = pd.read_csv('twitter-vine-clean.tsv.bz2', sep='\\t', compression='bz2')"
   ]
  },
  {
   "cell_type": "code",
   "execution_count": 4,
   "metadata": {
    "collapsed": false
   },
   "outputs": [
    {
     "name": "stdout",
     "output_type": "stream",
     "text": [
      "(2129755, 22)\n"
     ]
    }
   ],
   "source": [
    "print(rawdf.shape)"
   ]
  },
  {
   "cell_type": "code",
   "execution_count": 70,
   "metadata": {
    "collapsed": false
   },
   "outputs": [
    {
     "data": {
      "text/html": [
       "<div>\n",
       "<table border=\"1\" class=\"dataframe\">\n",
       "  <thead>\n",
       "    <tr style=\"text-align: right;\">\n",
       "      <th></th>\n",
       "      <th>created_at</th>\n",
       "      <th>tweet_id</th>\n",
       "      <th>text</th>\n",
       "      <th>source</th>\n",
       "      <th>favorited</th>\n",
       "      <th>retweeted</th>\n",
       "      <th>possibly_sensitive</th>\n",
       "      <th>lang</th>\n",
       "      <th>geo</th>\n",
       "      <th>coordinates</th>\n",
       "      <th>hashtags</th>\n",
       "      <th>urls</th>\n",
       "      <th>user_mentions</th>\n",
       "      <th>in_reply_to_user_id</th>\n",
       "      <th>retweet_count</th>\n",
       "      <th>user_id</th>\n",
       "      <th>user_name</th>\n",
       "      <th>user_location</th>\n",
       "      <th>user_followers_count</th>\n",
       "      <th>user_friends_count</th>\n",
       "      <th>user_created_at</th>\n",
       "      <th>user_verified</th>\n",
       "    </tr>\n",
       "  </thead>\n",
       "  <tbody>\n",
       "    <tr>\n",
       "      <th>0</th>\n",
       "      <td>2013-01-28T13:41:54+00:00</td>\n",
       "      <td>295889441355071488</td>\n",
       "      <td>BBC News - Twitter launches Vine micro-video sharing service http://t.co/MykDuEgx</td>\n",
       "      <td>&lt;a href=\"http://twitter.com/tweetbutton\" rel=\"nofollow\"&gt;Tweet Button&lt;/a&gt;</td>\n",
       "      <td>False</td>\n",
       "      <td>False</td>\n",
       "      <td>False</td>\n",
       "      <td>en</td>\n",
       "      <td>None</td>\n",
       "      <td>None</td>\n",
       "      <td>[]</td>\n",
       "      <td>[{'url': 'http://t.co/MykDuEgx', 'indices': [61, 81], 'display_url': 'bbc.in/148Grra', 'expanded...</td>\n",
       "      <td>[]</td>\n",
       "      <td>None</td>\n",
       "      <td>0</td>\n",
       "      <td>632569755</td>\n",
       "      <td>Sherry Edwards</td>\n",
       "      <td>US</td>\n",
       "      <td>8</td>\n",
       "      <td>45</td>\n",
       "      <td>2012-07-11T02:01:19+00:00</td>\n",
       "      <td>False</td>\n",
       "    </tr>\n",
       "    <tr>\n",
       "      <th>1</th>\n",
       "      <td>2013-01-28T13:41:57+00:00</td>\n",
       "      <td>295889452121866241</td>\n",
       "      <td>“Vine” อลวน โป๊ระบาด-เฟซบุ๊กสั่งแบน-ทวิตเตอร์เซ็ง http://t.co/mIo9PO6t</td>\n",
       "      <td>&lt;a href=\"http://www.facebook.com/twitter\" rel=\"nofollow\"&gt;Facebook&lt;/a&gt;</td>\n",
       "      <td>False</td>\n",
       "      <td>False</td>\n",
       "      <td>False</td>\n",
       "      <td>th</td>\n",
       "      <td>None</td>\n",
       "      <td>None</td>\n",
       "      <td>[]</td>\n",
       "      <td>[{'url': 'http://t.co/mIo9PO6t', 'indices': [50, 70], 'display_url': 'manager.co.th/Cyberbiz/Vie...</td>\n",
       "      <td>[]</td>\n",
       "      <td>None</td>\n",
       "      <td>0</td>\n",
       "      <td>94285151</td>\n",
       "      <td>Keng KSPstudio</td>\n",
       "      <td>NaN</td>\n",
       "      <td>165</td>\n",
       "      <td>736</td>\n",
       "      <td>2009-12-03T08:18:58+00:00</td>\n",
       "      <td>False</td>\n",
       "    </tr>\n",
       "    <tr>\n",
       "      <th>2</th>\n",
       "      <td>2013-01-28T13:41:58+00:00</td>\n",
       "      <td>295889454705565696</td>\n",
       "      <td>Really excited for the explosion of 'What does Vine mean for _______?' pieces, which will dodge ...</td>\n",
       "      <td>web</td>\n",
       "      <td>False</td>\n",
       "      <td>False</td>\n",
       "      <td>NaN</td>\n",
       "      <td>en</td>\n",
       "      <td>None</td>\n",
       "      <td>None</td>\n",
       "      <td>[]</td>\n",
       "      <td>[]</td>\n",
       "      <td>[]</td>\n",
       "      <td>None</td>\n",
       "      <td>0</td>\n",
       "      <td>21334099</td>\n",
       "      <td>Ryan Farkas</td>\n",
       "      <td>Toronto</td>\n",
       "      <td>367</td>\n",
       "      <td>841</td>\n",
       "      <td>2009-02-19T20:13:33+00:00</td>\n",
       "      <td>False</td>\n",
       "    </tr>\n",
       "    <tr>\n",
       "      <th>3</th>\n",
       "      <td>2013-01-28T13:41:58+00:00</td>\n",
       "      <td>295889458639802368</td>\n",
       "      <td>It's fun to think about the potential that exists between #vine and those who have DIY #Etsy bus...</td>\n",
       "      <td>web</td>\n",
       "      <td>False</td>\n",
       "      <td>False</td>\n",
       "      <td>NaN</td>\n",
       "      <td>en</td>\n",
       "      <td>None</td>\n",
       "      <td>None</td>\n",
       "      <td>[{'indices': [58, 63], 'text': 'vine'}, {'indices': [87, 92], 'text': 'Etsy'}]</td>\n",
       "      <td>[]</td>\n",
       "      <td>[{'id': 18288876, 'id_str': '18288876', 'screen_name': 'cary_weston', 'name': 'Cary Weston', 'in...</td>\n",
       "      <td>None</td>\n",
       "      <td>0</td>\n",
       "      <td>317935518</td>\n",
       "      <td>Pat Lemieux</td>\n",
       "      <td>Bangor Maine</td>\n",
       "      <td>354</td>\n",
       "      <td>383</td>\n",
       "      <td>2011-06-15T18:14:44+00:00</td>\n",
       "      <td>False</td>\n",
       "    </tr>\n",
       "    <tr>\n",
       "      <th>4</th>\n",
       "      <td>2013-01-28T13:42:01+00:00</td>\n",
       "      <td>295889470333517824</td>\n",
       "      <td>Just Vined Lets You See the Last 20 Videos on Vine http://t.co/5tqQtM92</td>\n",
       "      <td>web</td>\n",
       "      <td>False</td>\n",
       "      <td>False</td>\n",
       "      <td>False</td>\n",
       "      <td>en</td>\n",
       "      <td>None</td>\n",
       "      <td>None</td>\n",
       "      <td>[]</td>\n",
       "      <td>[{'url': 'http://t.co/5tqQtM92', 'indices': [51, 71], 'display_url': 'bit.ly/Vrvb87', 'expanded_...</td>\n",
       "      <td>[]</td>\n",
       "      <td>None</td>\n",
       "      <td>0</td>\n",
       "      <td>736658053</td>\n",
       "      <td>adelineuddbbilo</td>\n",
       "      <td>Tampa</td>\n",
       "      <td>43</td>\n",
       "      <td>99</td>\n",
       "      <td>2012-08-04T12:33:45+00:00</td>\n",
       "      <td>False</td>\n",
       "    </tr>\n",
       "    <tr>\n",
       "      <th>5</th>\n",
       "      <td>2013-01-28T13:42:01+00:00</td>\n",
       "      <td>295889470836850688</td>\n",
       "      <td>Анимированные GIF-ки и короткие видео в новом сервисе Twitter Vine</td>\n",
       "      <td>web</td>\n",
       "      <td>False</td>\n",
       "      <td>False</td>\n",
       "      <td>NaN</td>\n",
       "      <td>ru</td>\n",
       "      <td>None</td>\n",
       "      <td>None</td>\n",
       "      <td>[]</td>\n",
       "      <td>[]</td>\n",
       "      <td>[]</td>\n",
       "      <td>None</td>\n",
       "      <td>0</td>\n",
       "      <td>599147011</td>\n",
       "      <td>Андрей Дорин</td>\n",
       "      <td>NaN</td>\n",
       "      <td>976</td>\n",
       "      <td>854</td>\n",
       "      <td>2012-06-04T10:57:47+00:00</td>\n",
       "      <td>False</td>\n",
       "    </tr>\n",
       "    <tr>\n",
       "      <th>6</th>\n",
       "      <td>2013-01-28T13:42:03+00:00</td>\n",
       "      <td>295889475635134464</td>\n",
       "      <td>Epoke la vine tendu pa attann moun vine tann bras a yo, pass life la tepu sa u baw fèy rèprany o...</td>\n",
       "      <td>web</td>\n",
       "      <td>False</td>\n",
       "      <td>False</td>\n",
       "      <td>NaN</td>\n",
       "      <td>fr</td>\n",
       "      <td>None</td>\n",
       "      <td>None</td>\n",
       "      <td>[]</td>\n",
       "      <td>[]</td>\n",
       "      <td>[]</td>\n",
       "      <td>None</td>\n",
       "      <td>0</td>\n",
       "      <td>360993125</td>\n",
       "      <td>Aby Merah 187</td>\n",
       "      <td>NaN</td>\n",
       "      <td>49</td>\n",
       "      <td>95</td>\n",
       "      <td>2011-08-24T02:32:34+00:00</td>\n",
       "      <td>False</td>\n",
       "    </tr>\n",
       "    <tr>\n",
       "      <th>7</th>\n",
       "      <td>2013-01-28T13:42:03+00:00</td>\n",
       "      <td>295889478600495104</td>\n",
       "      <td>Vine a perder mi tiempo, sin comentarios.</td>\n",
       "      <td>&lt;a href=\"http://twitter.com/download/android\" rel=\"nofollow\"&gt;Twitter for Android&lt;/a&gt;</td>\n",
       "      <td>False</td>\n",
       "      <td>False</td>\n",
       "      <td>NaN</td>\n",
       "      <td>es</td>\n",
       "      <td>None</td>\n",
       "      <td>None</td>\n",
       "      <td>[]</td>\n",
       "      <td>[]</td>\n",
       "      <td>[]</td>\n",
       "      <td>None</td>\n",
       "      <td>0</td>\n",
       "      <td>83375508</td>\n",
       "      <td>Soleny.</td>\n",
       "      <td>Livin' in the couch.</td>\n",
       "      <td>468</td>\n",
       "      <td>295</td>\n",
       "      <td>2009-10-18T14:40:20+00:00</td>\n",
       "      <td>False</td>\n",
       "    </tr>\n",
       "    <tr>\n",
       "      <th>8</th>\n",
       "      <td>2013-01-28T13:42:03+00:00</td>\n",
       "      <td>295889478831198208</td>\n",
       "      <td>http://t.co/G5vwi7u3 http://t.co/Sx2tn2wV</td>\n",
       "      <td>&lt;a href=\"http://www.facebook.com/twitter\" rel=\"nofollow\"&gt;Facebook&lt;/a&gt;</td>\n",
       "      <td>False</td>\n",
       "      <td>False</td>\n",
       "      <td>False</td>\n",
       "      <td>und</td>\n",
       "      <td>None</td>\n",
       "      <td>None</td>\n",
       "      <td>[]</td>\n",
       "      <td>[{'url': 'http://t.co/G5vwi7u3', 'indices': [0, 20], 'display_url': 'mashable.com/2013/01/24/twi...</td>\n",
       "      <td>[]</td>\n",
       "      <td>None</td>\n",
       "      <td>0</td>\n",
       "      <td>249921061</td>\n",
       "      <td>MI.COM.CO</td>\n",
       "      <td>Colombia</td>\n",
       "      <td>1774</td>\n",
       "      <td>1958</td>\n",
       "      <td>2011-02-10T01:49:43+00:00</td>\n",
       "      <td>False</td>\n",
       "    </tr>\n",
       "    <tr>\n",
       "      <th>9</th>\n",
       "      <td>2013-01-28T13:42:04+00:00</td>\n",
       "      <td>295889481045782528</td>\n",
       "      <td>Brands Are Already Experimenting With Twitter’s Vine http://t.co/kd1lGfeY via @comunitee</td>\n",
       "      <td>&lt;a href=\"http://www.comunitee.com/\" rel=\"nofollow\"&gt;Comunitee&lt;/a&gt;</td>\n",
       "      <td>False</td>\n",
       "      <td>False</td>\n",
       "      <td>False</td>\n",
       "      <td>en</td>\n",
       "      <td>None</td>\n",
       "      <td>None</td>\n",
       "      <td>[]</td>\n",
       "      <td>[{'url': 'http://t.co/kd1lGfeY', 'indices': [53, 73], 'display_url': 'cmnt.co/latest-news/te…', ...</td>\n",
       "      <td>[{'id': 252177074, 'id_str': '252177074', 'screen_name': 'comunitee', 'name': 'Comunitee.com', '...</td>\n",
       "      <td>None</td>\n",
       "      <td>0</td>\n",
       "      <td>404272488</td>\n",
       "      <td>Don Daszkowski</td>\n",
       "      <td>NaN</td>\n",
       "      <td>118</td>\n",
       "      <td>168</td>\n",
       "      <td>2011-11-03T17:48:55+00:00</td>\n",
       "      <td>False</td>\n",
       "    </tr>\n",
       "  </tbody>\n",
       "</table>\n",
       "</div>"
      ],
      "text/plain": [
       "                  created_at            tweet_id                                                                                                 text  \\\n",
       "0  2013-01-28T13:41:54+00:00  295889441355071488                    BBC News - Twitter launches Vine micro-video sharing service http://t.co/MykDuEgx   \n",
       "1  2013-01-28T13:41:57+00:00  295889452121866241                               “Vine” อลวน โป๊ระบาด-เฟซบุ๊กสั่งแบน-ทวิตเตอร์เซ็ง http://t.co/mIo9PO6t   \n",
       "2  2013-01-28T13:41:58+00:00  295889454705565696  Really excited for the explosion of 'What does Vine mean for _______?' pieces, which will dodge ...   \n",
       "3  2013-01-28T13:41:58+00:00  295889458639802368  It's fun to think about the potential that exists between #vine and those who have DIY #Etsy bus...   \n",
       "4  2013-01-28T13:42:01+00:00  295889470333517824                              Just Vined Lets You See the Last 20 Videos on Vine http://t.co/5tqQtM92   \n",
       "5  2013-01-28T13:42:01+00:00  295889470836850688                                   Анимированные GIF-ки и короткие видео в новом сервисе Twitter Vine   \n",
       "6  2013-01-28T13:42:03+00:00  295889475635134464  Epoke la vine tendu pa attann moun vine tann bras a yo, pass life la tepu sa u baw fèy rèprany o...   \n",
       "7  2013-01-28T13:42:03+00:00  295889478600495104                                                            Vine a perder mi tiempo, sin comentarios.   \n",
       "8  2013-01-28T13:42:03+00:00  295889478831198208                                                            http://t.co/G5vwi7u3 http://t.co/Sx2tn2wV   \n",
       "9  2013-01-28T13:42:04+00:00  295889481045782528             Brands Are Already Experimenting With Twitter’s Vine http://t.co/kd1lGfeY via @comunitee   \n",
       "\n",
       "                                                                                 source favorited retweeted possibly_sensitive lang   geo coordinates  \\\n",
       "0              <a href=\"http://twitter.com/tweetbutton\" rel=\"nofollow\">Tweet Button</a>     False     False              False   en  None        None   \n",
       "1                 <a href=\"http://www.facebook.com/twitter\" rel=\"nofollow\">Facebook</a>     False     False              False   th  None        None   \n",
       "2                                                                                   web     False     False                NaN   en  None        None   \n",
       "3                                                                                   web     False     False                NaN   en  None        None   \n",
       "4                                                                                   web     False     False              False   en  None        None   \n",
       "5                                                                                   web     False     False                NaN   ru  None        None   \n",
       "6                                                                                   web     False     False                NaN   fr  None        None   \n",
       "7  <a href=\"http://twitter.com/download/android\" rel=\"nofollow\">Twitter for Android</a>     False     False                NaN   es  None        None   \n",
       "8                 <a href=\"http://www.facebook.com/twitter\" rel=\"nofollow\">Facebook</a>     False     False              False  und  None        None   \n",
       "9                      <a href=\"http://www.comunitee.com/\" rel=\"nofollow\">Comunitee</a>     False     False              False   en  None        None   \n",
       "\n",
       "                                                                         hashtags                                                                                                 urls  \\\n",
       "0                                                                              []  [{'url': 'http://t.co/MykDuEgx', 'indices': [61, 81], 'display_url': 'bbc.in/148Grra', 'expanded...   \n",
       "1                                                                              []  [{'url': 'http://t.co/mIo9PO6t', 'indices': [50, 70], 'display_url': 'manager.co.th/Cyberbiz/Vie...   \n",
       "2                                                                              []                                                                                                   []   \n",
       "3  [{'indices': [58, 63], 'text': 'vine'}, {'indices': [87, 92], 'text': 'Etsy'}]                                                                                                   []   \n",
       "4                                                                              []  [{'url': 'http://t.co/5tqQtM92', 'indices': [51, 71], 'display_url': 'bit.ly/Vrvb87', 'expanded_...   \n",
       "5                                                                              []                                                                                                   []   \n",
       "6                                                                              []                                                                                                   []   \n",
       "7                                                                              []                                                                                                   []   \n",
       "8                                                                              []  [{'url': 'http://t.co/G5vwi7u3', 'indices': [0, 20], 'display_url': 'mashable.com/2013/01/24/twi...   \n",
       "9                                                                              []  [{'url': 'http://t.co/kd1lGfeY', 'indices': [53, 73], 'display_url': 'cmnt.co/latest-news/te…', ...   \n",
       "\n",
       "                                                                                         user_mentions in_reply_to_user_id  retweet_count    user_id        user_name         user_location  \\\n",
       "0                                                                                                   []                None              0  632569755   Sherry Edwards                    US   \n",
       "1                                                                                                   []                None              0   94285151   Keng KSPstudio                   NaN   \n",
       "2                                                                                                   []                None              0   21334099      Ryan Farkas               Toronto   \n",
       "3  [{'id': 18288876, 'id_str': '18288876', 'screen_name': 'cary_weston', 'name': 'Cary Weston', 'in...                None              0  317935518      Pat Lemieux          Bangor Maine   \n",
       "4                                                                                                   []                None              0  736658053  adelineuddbbilo                 Tampa   \n",
       "5                                                                                                   []                None              0  599147011     Андрей Дорин                   NaN   \n",
       "6                                                                                                   []                None              0  360993125    Aby Merah 187                   NaN   \n",
       "7                                                                                                   []                None              0   83375508          Soleny.  Livin' in the couch.   \n",
       "8                                                                                                   []                None              0  249921061        MI.COM.CO              Colombia   \n",
       "9  [{'id': 252177074, 'id_str': '252177074', 'screen_name': 'comunitee', 'name': 'Comunitee.com', '...                None              0  404272488   Don Daszkowski                   NaN   \n",
       "\n",
       "   user_followers_count user_friends_count            user_created_at user_verified  \n",
       "0                     8                 45  2012-07-11T02:01:19+00:00         False  \n",
       "1                   165                736  2009-12-03T08:18:58+00:00         False  \n",
       "2                   367                841  2009-02-19T20:13:33+00:00         False  \n",
       "3                   354                383  2011-06-15T18:14:44+00:00         False  \n",
       "4                    43                 99  2012-08-04T12:33:45+00:00         False  \n",
       "5                   976                854  2012-06-04T10:57:47+00:00         False  \n",
       "6                    49                 95  2011-08-24T02:32:34+00:00         False  \n",
       "7                   468                295  2009-10-18T14:40:20+00:00         False  \n",
       "8                  1774               1958  2011-02-10T01:49:43+00:00         False  \n",
       "9                   118                168  2011-11-03T17:48:55+00:00         False  "
      ]
     },
     "execution_count": 70,
     "metadata": {},
     "output_type": "execute_result"
    }
   ],
   "source": [
    "rawdf.head(10)"
   ]
  },
  {
   "cell_type": "code",
   "execution_count": 6,
   "metadata": {
    "collapsed": false
   },
   "outputs": [
    {
     "data": {
      "text/html": [
       "<div>\n",
       "<table border=\"1\" class=\"dataframe\">\n",
       "  <thead>\n",
       "    <tr style=\"text-align: right;\">\n",
       "      <th></th>\n",
       "      <th>tweet_id</th>\n",
       "      <th>favorited</th>\n",
       "      <th>retweet_count</th>\n",
       "      <th>user_followers_count</th>\n",
       "    </tr>\n",
       "  </thead>\n",
       "  <tbody>\n",
       "    <tr>\n",
       "      <th>count</th>\n",
       "      <td>2.129755e+06</td>\n",
       "      <td>2129755</td>\n",
       "      <td>2.129755e+06</td>\n",
       "      <td>2129755.000000</td>\n",
       "    </tr>\n",
       "    <tr>\n",
       "      <th>mean</th>\n",
       "      <td>3.010565e+17</td>\n",
       "      <td>0</td>\n",
       "      <td>6.333862e+04</td>\n",
       "      <td>3419.690028</td>\n",
       "    </tr>\n",
       "    <tr>\n",
       "      <th>std</th>\n",
       "      <td>3.075295e+15</td>\n",
       "      <td>0</td>\n",
       "      <td>6.094841e+06</td>\n",
       "      <td>55999.003897</td>\n",
       "    </tr>\n",
       "    <tr>\n",
       "      <th>min</th>\n",
       "      <td>2.958894e+17</td>\n",
       "      <td>False</td>\n",
       "      <td>0.000000e+00</td>\n",
       "      <td>-1.000000</td>\n",
       "    </tr>\n",
       "    <tr>\n",
       "      <th>25%</th>\n",
       "      <td>2.985332e+17</td>\n",
       "      <td>0</td>\n",
       "      <td>0.000000e+00</td>\n",
       "      <td>107.000000</td>\n",
       "    </tr>\n",
       "    <tr>\n",
       "      <th>50%</th>\n",
       "      <td>3.010991e+17</td>\n",
       "      <td>0</td>\n",
       "      <td>0.000000e+00</td>\n",
       "      <td>264.000000</td>\n",
       "    </tr>\n",
       "    <tr>\n",
       "      <th>75%</th>\n",
       "      <td>3.037247e+17</td>\n",
       "      <td>0</td>\n",
       "      <td>0.000000e+00</td>\n",
       "      <td>706.000000</td>\n",
       "    </tr>\n",
       "    <tr>\n",
       "      <th>max</th>\n",
       "      <td>3.061918e+17</td>\n",
       "      <td>False</td>\n",
       "      <td>1.184210e+09</td>\n",
       "      <td>8894046.000000</td>\n",
       "    </tr>\n",
       "  </tbody>\n",
       "</table>\n",
       "</div>"
      ],
      "text/plain": [
       "           tweet_id favorited  retweet_count  user_followers_count\n",
       "count  2.129755e+06   2129755   2.129755e+06        2129755.000000\n",
       "mean   3.010565e+17         0   6.333862e+04           3419.690028\n",
       "std    3.075295e+15         0   6.094841e+06          55999.003897\n",
       "min    2.958894e+17     False   0.000000e+00             -1.000000\n",
       "25%    2.985332e+17         0   0.000000e+00            107.000000\n",
       "50%    3.010991e+17         0   0.000000e+00            264.000000\n",
       "75%    3.037247e+17         0   0.000000e+00            706.000000\n",
       "max    3.061918e+17     False   1.184210e+09        8894046.000000"
      ]
     },
     "execution_count": 6,
     "metadata": {},
     "output_type": "execute_result"
    }
   ],
   "source": [
    "rawdf.describe()"
   ]
  },
  {
   "cell_type": "code",
   "execution_count": 98,
   "metadata": {
    "collapsed": false
   },
   "outputs": [
    {
     "data": {
      "text/plain": [
       "(2129755, 22)"
      ]
     },
     "execution_count": 98,
     "metadata": {},
     "output_type": "execute_result"
    }
   ],
   "source": [
    "rawdf.shape"
   ]
  },
  {
   "cell_type": "code",
   "execution_count": 40,
   "metadata": {
    "collapsed": false
   },
   "outputs": [
    {
     "data": {
      "text/plain": [
       "918911"
      ]
     },
     "execution_count": 40,
     "metadata": {},
     "output_type": "execute_result"
    }
   ],
   "source": [
    "rawdf['user_id'].nunique()"
   ]
  },
  {
   "cell_type": "code",
   "execution_count": 69,
   "metadata": {
    "collapsed": false
   },
   "outputs": [
    {
     "data": {
      "text/plain": [
       "19899"
      ]
     },
     "execution_count": 69,
     "metadata": {},
     "output_type": "execute_result"
    }
   ],
   "source": [
    "sum(rawdf.text.str.count('http')>1)"
   ]
  },
  {
   "cell_type": "code",
   "execution_count": 91,
   "metadata": {
    "collapsed": false
   },
   "outputs": [
    {
     "data": {
      "text/plain": [
       "15572"
      ]
     },
     "execution_count": 91,
     "metadata": {},
     "output_type": "execute_result"
    }
   ],
   "source": [
    "2129755 - sum(rawdf.geo.str.count('None'))"
   ]
  },
  {
   "cell_type": "code",
   "execution_count": 122,
   "metadata": {
    "collapsed": false
   },
   "outputs": [
    {
     "data": {
      "text/plain": [
       "retweeted\n",
       "False    2129597\n",
       "True           5\n",
       "dtype: int64"
      ]
     },
     "execution_count": 122,
     "metadata": {},
     "output_type": "execute_result"
    }
   ],
   "source": [
    "rawdf.groupby(['retweeted']).apply(len)"
   ]
  },
  {
   "cell_type": "code",
   "execution_count": 48,
   "metadata": {
    "collapsed": false
   },
   "outputs": [
    {
     "data": {
      "text/plain": [
       "73439.8275862069"
      ]
     },
     "execution_count": 48,
     "metadata": {},
     "output_type": "execute_result"
    }
   ],
   "source": [
    "daydf = pd.DataFrame(rawdf.created_at.str.split('T',1).tolist(),\n",
    "                    columns = ['day','time'])\n",
    "daydf.groupby(['day']).apply(len).mean(0)"
   ]
  },
  {
   "cell_type": "code",
   "execution_count": 51,
   "metadata": {
    "collapsed": false
   },
   "outputs": [
    {
     "data": {
      "text/plain": [
       "day\n",
       "2013-02-25    70160\n",
       "dtype: int64"
      ]
     },
     "execution_count": 51,
     "metadata": {},
     "output_type": "execute_result"
    }
   ],
   "source": [
    "daydf = pd.DataFrame(rawdf.created_at.str.split('T',1).tolist(),\n",
    "                    columns = ['day','time'])\n",
    "daydf.groupby(['day']).apply(len)[0:7]\n",
    "daydf.groupby(['day']).apply(len)[7:14]\n",
    "daydf.groupby(['day']).apply(len)[14:21]\n",
    "daydf.groupby(['day']).apply(len)[21:28]\n",
    "daydf.groupby(['day']).apply(len)[28:35]\n"
   ]
  }
 ],
 "metadata": {
  "kernelspec": {
   "display_name": "Python 3",
   "language": "python",
   "name": "python3"
  },
  "language_info": {
   "codemirror_mode": {
    "name": "ipython",
    "version": 3
   },
   "file_extension": ".py",
   "mimetype": "text/x-python",
   "name": "python",
   "nbconvert_exporter": "python",
   "pygments_lexer": "ipython3",
   "version": "3.5.1"
  }
 },
 "nbformat": 4,
 "nbformat_minor": 0
}
